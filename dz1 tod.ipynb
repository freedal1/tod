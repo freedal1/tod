{
 "cells": [
  {
   "cell_type": "code",
   "execution_count": 1,
   "id": "5accce4a",
   "metadata": {},
   "outputs": [],
   "source": [
    "import numpy as np"
   ]
  },
  {
   "cell_type": "code",
   "execution_count": 3,
   "id": "369b9741",
   "metadata": {},
   "outputs": [],
   "source": [
    "data = np.loadtxt('minutes_n_ingredients.csv', delimiter=',', dtype=np.int32)"
   ]
  },
  {
   "cell_type": "code",
   "execution_count": 35,
   "id": "5d28036e",
   "metadata": {},
   "outputs": [
    {
     "name": "stdout",
     "output_type": "stream",
     "text": [
      "[[127244     60     16]\n",
      " [ 23891     25      7]\n",
      " [ 94746     10      6]\n",
      " [ 67660      5      6]\n",
      " [157911     60     14]]\n"
     ]
    }
   ],
   "source": [
    "print(data[:5]) #1"
   ]
  },
  {
   "cell_type": "code",
   "execution_count": 22,
   "id": "d28c4786",
   "metadata": {},
   "outputs": [],
   "source": [
    "mean = np.mean(data[:, 1:], axis=0)\n",
    "mi = np.min(data[:, 1:], axis=0)\n",
    "ma = np.max(data[:, 1:], axis=0)\n",
    "median = np.median(data[:, 1:], axis=0)"
   ]
  },
  {
   "cell_type": "code",
   "execution_count": 24,
   "id": "1f39046e",
   "metadata": {},
   "outputs": [
    {
     "name": "stdout",
     "output_type": "stream",
     "text": [
      "[2.16010017e+04 9.05528000e+00]\n",
      "[0 1]\n",
      "[2147483647         39]\n",
      "[40.  9.]\n"
     ]
    }
   ],
   "source": [
    "print(mean)  #2\n",
    "print(mi)\n",
    "print(ma)\n",
    "print(median)"
   ]
  },
  {
   "cell_type": "code",
   "execution_count": 40,
   "id": "3589ab84",
   "metadata": {},
   "outputs": [
    {
     "name": "stdout",
     "output_type": "stream",
     "text": [
      "65.0\n",
      "[[127244     60     16]\n",
      " [ 23891     25      7]\n",
      " [ 94746     10      6]\n",
      " [ 67660      5      6]\n",
      " [157911     60     14]]\n"
     ]
    }
   ],
   "source": [
    "# Вычисление значения квантиля q0.75 для продолжительности выполнения рецепта\n",
    "quantile_75 = np.quantile(data[:, 1], 0.75)\n",
    "print(quantile_75)\n",
    "# Ограничение сверху значений продолжительности выполнения рецепта\n",
    "data[:, 1] = np.minimum(data[:, 1], quantile_75)\n",
    "# Вывод первых 5 строк массива после ограничения\n",
    "print(data[:5])    #3"
   ]
  },
  {
   "cell_type": "code",
   "execution_count": 37,
   "id": "66ca938e",
   "metadata": {},
   "outputs": [
    {
     "name": "stdout",
     "output_type": "stream",
     "text": [
      "Количество рецептов с продолжительностью выполнения, равной нулю: 479\n"
     ]
    }
   ],
   "source": [
    "zero_duration_count = np.sum(data[:, 1] == 0) #4\n",
    "print(\"Количество рецептов с продолжительностью выполнения, равной нулю:\", zero_duration_count) #4"
   ]
  },
  {
   "cell_type": "code",
   "execution_count": 38,
   "id": "5c4711ef",
   "metadata": {},
   "outputs": [
    {
     "name": "stdout",
     "output_type": "stream",
     "text": [
      "Количество уникальных рецептов в датасете: 100000\n"
     ]
    }
   ],
   "source": [
    "# Извлечение уникальных идентификаторов рецептов\n",
    "unique_recipes = np.unique(data[:, 0])\n",
    "\n",
    "# Подсчет количества уникальных рецептов\n",
    "unique_recipes_count = len(unique_recipes)\n",
    "\n",
    "# Вывод количества уникальных рецептов\n",
    "print(\"Количество уникальных рецептов в датасете:\", unique_recipes_count) #5"
   ]
  },
  {
   "cell_type": "code",
   "execution_count": 41,
   "id": "3c3f9108",
   "metadata": {},
   "outputs": [
    {
     "name": "stdout",
     "output_type": "stream",
     "text": [
      "Различных значений количества ингредиентов: 66\n",
      "Уникальные значения количества ингредиентов: [ 0  1  2  3  4  5  6  7  8  9 10 11 12 13 14 15 16 17 18 19 20 21 22 23\n",
      " 24 25 26 27 28 29 30 31 32 33 34 35 36 37 38 39 40 41 42 43 44 45 46 47\n",
      " 48 49 50 51 52 53 54 55 56 57 58 59 60 61 62 63 64 65]\n"
     ]
    }
   ],
   "source": [
    "# Извлечение уникальных значений количества ингредиентов\n",
    "unique_ingredient_counts = np.unique(data[:, 1])\n",
    "\n",
    "# Подсчет количества различных значений количества ингредиентов\n",
    "different_ingredient_count = len(unique_ingredient_counts)\n",
    "\n",
    "# Вывод количества и различных значений количества ингредиентов\n",
    "print(\"Различных значений количества ингредиентов:\", different_ingredient_count)\n",
    "print(\"Уникальные значения количества ингредиентов:\", unique_ingredient_counts) #6\n"
   ]
  },
  {
   "cell_type": "code",
   "execution_count": 42,
   "id": "7e4ebc60",
   "metadata": {},
   "outputs": [
    {
     "name": "stdout",
     "output_type": "stream",
     "text": [
      "Количество рецептов, состоящих не более чем из 5 ингредиентов: 6343\n"
     ]
    }
   ],
   "source": [
    "# Создание нового массива, содержащего информацию только о рецептах с не более чем 5 ингредиентами\n",
    "filtered_data = data[data[:, 1] <= 5]\n",
    "\n",
    "# Сохранение отфильтрованных данных в новом файле\n",
    "np.savetxt('filtered_recipes.csv', filtered_data, fmt='%d', delimiter=',')\n",
    "\n",
    "# Вывод информации о количестве отфильтрованных рецептов\n",
    "print(\"Количество рецептов, состоящих не более чем из 5 ингредиентов:\", len(filtered_data)) #7"
   ]
  },
  {
   "cell_type": "code",
   "execution_count": 43,
   "id": "325fddb8",
   "metadata": {},
   "outputs": [
    {
     "name": "stdout",
     "output_type": "stream",
     "text": [
      "Максимальное значение среднего количества ингредиентов на одну минуту: 1.7105263157894737\n"
     ]
    }
   ],
   "source": [
    "# Вычисление среднего количества ингредиентов на одну минуту для каждого рецепта\n",
    "ingredients_per_minute = data[:, 1] / data[:, 0]\n",
    "\n",
    "# Нахождение максимального значения среднего количества ингредиентов на одну минуту\n",
    "max_avg_ingredients_per_minute = np.max(ingredients_per_minute)\n",
    "\n",
    "# Вывод максимального значения этой величины для всего датасета\n",
    "print(\"Максимальное значение среднего количества ингредиентов на одну минуту:\", max_avg_ingredients_per_minute) #8\n"
   ]
  },
  {
   "cell_type": "code",
   "execution_count": 44,
   "id": "826fa1e5",
   "metadata": {},
   "outputs": [
    {
     "name": "stdout",
     "output_type": "stream",
     "text": [
      "Среднее количество ингредиентов для топ-100 рецептов с наибольшей продолжительностью: 49.17\n"
     ]
    }
   ],
   "source": [
    "# Сортировка данных по продолжительности приготовления в убывающем порядке\n",
    "sorted_data = data[data[:, 0].argsort()][::-1]\n",
    "\n",
    "# Выбор топ-100 рецептов с наибольшей продолжительностью\n",
    "top_100_recipes = sorted_data[:100]\n",
    "\n",
    "# Вычисление среднего количества ингредиентов для топ-100 рецептов\n",
    "mean_ingredients_top_100 = np.mean(top_100_recipes[:, 1])\n",
    "\n",
    "# Вывод среднего количества ингредиентов для топ-100 рецептов\n",
    "print(\"Среднее количество ингредиентов для топ-100 рецептов с наибольшей продолжительностью:\", mean_ingredients_top_100) #9"
   ]
  },
  {
   "cell_type": "code",
   "execution_count": 45,
   "id": "7deb44ad",
   "metadata": {},
   "outputs": [
    {
     "name": "stdout",
     "output_type": "stream",
     "text": [
      "Процент 'простых' рецептов в датасете: 6.34%\n"
     ]
    }
   ],
   "source": [
    "# Подсчет общего количества рецептов в датасете\n",
    "total_recipes = len(data)\n",
    "\n",
    "# Подсчет количества \"простых\" рецептов (с не более чем 5 ингредиентами)\n",
    "simple_recipes_count = len(data[data[:, 1] <= 5])\n",
    "\n",
    "# Вычисление процента \"простых\" рецептов\n",
    "percent_simple_recipes = (simple_recipes_count / total_recipes) * 100\n",
    "\n",
    "# Вывод процента \"простых\" рецептов в датасете\n",
    "print(f\"Процент 'простых' рецептов в датасете: {percent_simple_recipes:.2f}%\") # 13"
   ]
  },
  {
   "cell_type": "code",
   "execution_count": 47,
   "id": "709a3aa5",
   "metadata": {},
   "outputs": [
    {
     "name": "stdout",
     "output_type": "stream",
     "text": [
      "Рецепт 85476:\n",
      "Продолжительность приготовления: 318099 мин.\n",
      "Количество ингредиентов: 30\n",
      "Информация о рецепте (если есть): 5\n",
      "\n",
      "Рецепт 98264:\n",
      "Продолжительность приготовления: 101439 мин.\n",
      "Количество ингредиентов: 30\n",
      "Информация о рецепте (если есть): 5\n",
      "\n",
      "Рецепт 13516:\n",
      "Продолжительность приготовления: 169910 мин.\n",
      "Количество ингредиентов: 50\n",
      "Информация о рецепте (если есть): 10\n",
      "\n",
      "Рецепт 47315:\n",
      "Продолжительность приготовления: 476084 мин.\n",
      "Количество ингредиентов: 65\n",
      "Информация о рецепте (если есть): 11\n",
      "\n",
      "Рецепт 50394:\n",
      "Продолжительность приготовления: 363874 мин.\n",
      "Количество ингредиентов: 35\n",
      "Информация о рецепте (если есть): 14\n",
      "\n",
      "Рецепт 99393:\n",
      "Продолжительность приготовления: 475148 мин.\n",
      "Количество ингредиентов: 55\n",
      "Информация о рецепте (если есть): 19\n",
      "\n",
      "Рецепт 31908:\n",
      "Продолжительность приготовления: 293466 мин.\n",
      "Количество ингредиентов: 65\n",
      "Информация о рецепте (если есть): 10\n",
      "\n",
      "Рецепт 66928:\n",
      "Продолжительность приготовления: 375049 мин.\n",
      "Количество ингредиентов: 10\n",
      "Информация о рецепте (если есть): 10\n",
      "\n",
      "Рецепт 14497:\n",
      "Продолжительность приготовления: 221387 мин.\n",
      "Количество ингредиентов: 40\n",
      "Информация о рецепте (если есть): 4\n",
      "\n",
      "Рецепт 67773:\n",
      "Продолжительность приготовления: 513221 мин.\n",
      "Количество ингредиентов: 24\n",
      "Информация о рецепте (если есть): 7\n",
      "\n"
     ]
    }
   ],
   "source": [
    "# Выбор случайных индексов для 10 различных рецептов\n",
    "random_indices = np.random.choice(len(data), 10, replace=False)\n",
    "\n",
    "# Информация о выбранных случайным образом рецептах\n",
    "for index in random_indices:\n",
    "    recipe = data[index]\n",
    "    print(f\"Рецепт {index + 1}:\")\n",
    "    print(\"Продолжительность приготовления:\", recipe[0], \"мин.\")\n",
    "    print(\"Количество ингредиентов:\", recipe[1])\n",
    "    print(\"Информация о рецепте (если есть):\", recipe[2])\n",
    "    print()  #10"
   ]
  },
  {
   "cell_type": "code",
   "execution_count": 48,
   "id": "a6a94731",
   "metadata": {},
   "outputs": [
    {
     "name": "stdout",
     "output_type": "stream",
     "text": [
      "Процент рецептов, количество ингредиентов в которых меньше среднего: 49.25%\n"
     ]
    }
   ],
   "source": [
    "# Вычисление среднего количества ингредиентов для всех рецептов\n",
    "mean_ingredients = np.mean(data[:, 1])\n",
    "\n",
    "# Подсчет количества рецептов, количество ингредиентов в которых меньше среднего значения\n",
    "less_than_mean_count = len(data[data[:, 1] < mean_ingredients])\n",
    "\n",
    "# Вычисление процента рецептов, количество ингредиентов в которых меньше среднего значения\n",
    "percent_less_than_mean = (less_than_mean_count / len(data)) * 100\n",
    "\n",
    "# Вывод процента таких рецептов\n",
    "print(f\"Процент рецептов, количество ингредиентов в которых меньше среднего: {percent_less_than_mean:.2f}%\") #11"
   ]
  },
  {
   "cell_type": "code",
   "execution_count": 49,
   "id": "e6964252",
   "metadata": {},
   "outputs": [],
   "source": [
    "# Проверка условий для каждого рецепта и создание нового столбца с дополнительными значениями\n",
    "simple_recipe = np.where((data[:, 0] <= 20) & (data[:, 1] <= 5), 1, 0)\n",
    "\n",
    "# Добавление нового столбца к исходному массиву\n",
    "data_with_simple_recipe = np.column_stack((data, simple_recipe))\n",
    "\n",
    "# Сохранение нового датасета с дополнительным столбцом\n",
    "np.savetxt('minutes_n_ingredients_with_simple_recipe.csv', data_with_simple_recipe, delimiter=',', fmt='%d') #12"
   ]
  },
  {
   "cell_type": "code",
   "execution_count": 51,
   "id": "70d562e5",
   "metadata": {},
   "outputs": [
    {
     "name": "stdout",
     "output_type": "stream",
     "text": [
      "Форма полученного трехмерного массива: (3, 0, 3)\n"
     ]
    }
   ],
   "source": [
    "# Разделение рецептов на группы\n",
    "short_recipes = data[data[:, 0] < 10]\n",
    "standard_recipes = data[(data[:, 0] >= 10) & (data[:, 0] < 20)]\n",
    "long_recipes = data[data[:, 0] >= 20]\n",
    "\n",
    "# Определение максимального количества рецептов из каждой группы\n",
    "max_short = min(len(short_recipes), len(standard_recipes), len(long_recipes))\n",
    "\n",
    "# Выбор нужного количества рецептов из каждой группы\n",
    "short_recipes = short_recipes[:max_short]\n",
    "standard_recipes = standard_recipes[:max_short]\n",
    "long_recipes = long_recipes[:max_short]\n",
    "\n",
    "# Создание трехмерного массива\n",
    "recipes_3d = np.array([short_recipes, standard_recipes, long_recipes])\n",
    "\n",
    "# Вывод формы полученного массива\n",
    "print(f\"Форма полученного трехмерного массива: {recipes_3d.shape}\") #14"
   ]
  },
  {
   "cell_type": "code",
   "execution_count": null,
   "id": "8db3c219",
   "metadata": {},
   "outputs": [],
   "source": []
  }
 ],
 "metadata": {
  "kernelspec": {
   "display_name": "Python 3 (ipykernel)",
   "language": "python",
   "name": "python3"
  },
  "language_info": {
   "codemirror_mode": {
    "name": "ipython",
    "version": 3
   },
   "file_extension": ".py",
   "mimetype": "text/x-python",
   "name": "python",
   "nbconvert_exporter": "python",
   "pygments_lexer": "ipython3",
   "version": "3.11.5"
  }
 },
 "nbformat": 4,
 "nbformat_minor": 5
}
